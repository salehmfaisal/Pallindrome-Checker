{
 "cells": [
  {
   "cell_type": "code",
   "execution_count": 2,
   "metadata": {},
   "outputs": [
    {
     "name": "stdout",
     "output_type": "stream",
     "text": [
      "Please input your word:\n",
      "word\n",
      "Regular Word\n"
     ]
    }
   ],
   "source": [
    "#Input the word\n",
    "print(\"Please input your word:\")\n",
    "word=input()\n",
    "word=word.casefold()\n",
    "reversed_word=word[::-1]\n",
    "\n",
    "if word == reversed_word:\n",
    "    print(\"It's a Palindrome!!\")\n",
    "    \n",
    "else:\n",
    "    print(\"Regular Word\")"
   ]
  },
  {
   "cell_type": "code",
   "execution_count": null,
   "metadata": {},
   "outputs": [],
   "source": []
  }
 ],
 "metadata": {
  "kernelspec": {
   "display_name": "Python 3",
   "language": "python",
   "name": "python3"
  },
  "language_info": {
   "codemirror_mode": {
    "name": "ipython",
    "version": 3
   },
   "file_extension": ".py",
   "mimetype": "text/x-python",
   "name": "python",
   "nbconvert_exporter": "python",
   "pygments_lexer": "ipython3",
   "version": "3.7.4"
  }
 },
 "nbformat": 4,
 "nbformat_minor": 2
}
